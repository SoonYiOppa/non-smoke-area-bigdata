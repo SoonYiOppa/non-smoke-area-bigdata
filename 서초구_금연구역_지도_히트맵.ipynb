{
 "cells": [
  {
   "cell_type": "code",
   "execution_count": 2,
   "id": "b07007ef-3e01-4032-9bc8-8ecd4580fb0b",
   "metadata": {
    "tags": []
   },
   "outputs": [],
   "source": [
    "import pandas as pd\n",
    "\n",
    "data = pd.read_csv('서울특별시_금연구역_정보.csv',encoding=\"UTF-8\")\n",
    "\n",
    "#sido, lat, long변수 선택\n",
    "data = data[['sgg_nm','lat','long']]\n",
    "\n",
    "# 서초구 추출\n",
    "data_sc = data[data['sgg_nm']=='서초구']\n"
   ]
  },
  {
   "cell_type": "code",
   "execution_count": 3,
   "id": "107e23c6-c448-4ac4-9559-5185e873b235",
   "metadata": {},
   "outputs": [],
   "source": [
    "#lat, long 리스트 작성\n",
    "lat = list(data_sc['lat'])\n",
    "long = list(data_sc['long'])\n"
   ]
  },
  {
   "cell_type": "code",
   "execution_count": 6,
   "id": "ce45cef0-1edb-41cd-99c0-1f501a5bb420",
   "metadata": {},
   "outputs": [],
   "source": [
    "#서초구 14시 지도 만들기\n",
    "import folium\n",
    "from folium.plugins import HeatMap\n",
    "#geo_data='서울_행정동_경계_2017.json'\n",
    "\n",
    "center = [37.473552,127.030250]\n",
    "seocho_map = folium.Map(location=center,zoom_strat=15)\n",
    "\n",
    "heatmap = HeatMap(zip(lat,long),\n",
    "                 min_opacity=0.1,\n",
    "                 radius=20,\n",
    "                 blur=25,\n",
    "                 max_zoon = 4,\n",
    "                 color='Red')\n",
    "\n",
    "seocho_map.add_child(heatmap)\n",
    "seocho_map.save(\"C:/LJH/PYDATAexam/non-smoke-area-bigdata/images/서초구_금연구역_히트맵.html\")\n",
    "\n"
   ]
  },
  {
   "cell_type": "code",
   "execution_count": null,
   "id": "9dc9e0af-0298-4e48-97db-44faa24a9b1c",
   "metadata": {},
   "outputs": [],
   "source": []
  }
 ],
 "metadata": {
  "kernelspec": {
   "display_name": "pydatavenv",
   "language": "python",
   "name": "pydatavenv"
  },
  "language_info": {
   "codemirror_mode": {
    "name": "ipython",
    "version": 3
   },
   "file_extension": ".py",
   "mimetype": "text/x-python",
   "name": "python",
   "nbconvert_exporter": "python",
   "pygments_lexer": "ipython3",
   "version": "3.9.7"
  }
 },
 "nbformat": 4,
 "nbformat_minor": 5
}
