{
 "cells": [
  {
   "cell_type": "code",
   "execution_count": 1,
   "id": "2d3fd371-8a15-4dd7-a9f2-8669a77f08d0",
   "metadata": {},
   "outputs": [
    {
     "data": {
      "text/html": [
       "<div>\n",
       "<style scoped>\n",
       "    .dataframe tbody tr th:only-of-type {\n",
       "        vertical-align: middle;\n",
       "    }\n",
       "\n",
       "    .dataframe tbody tr th {\n",
       "        vertical-align: top;\n",
       "    }\n",
       "\n",
       "    .dataframe thead th {\n",
       "        text-align: right;\n",
       "    }\n",
       "</style>\n",
       "<table border=\"1\" class=\"dataframe\">\n",
       "  <thead>\n",
       "    <tr style=\"text-align: right;\">\n",
       "      <th></th>\n",
       "      <th>sgg_nm</th>\n",
       "      <th>shape</th>\n",
       "      <th>address</th>\n",
       "      <th>lon</th>\n",
       "      <th>lat</th>\n",
       "    </tr>\n",
       "  </thead>\n",
       "  <tbody>\n",
       "    <tr>\n",
       "      <th>0</th>\n",
       "      <td>서초구</td>\n",
       "      <td>개방형흡연부스</td>\n",
       "      <td>서울특벽시 서초구 방배2동 2476</td>\n",
       "      <td>126.982071</td>\n",
       "      <td>37.475943</td>\n",
       "    </tr>\n",
       "    <tr>\n",
       "      <th>1</th>\n",
       "      <td>서초구</td>\n",
       "      <td>개방형흡연부스</td>\n",
       "      <td>서울특별시 서초구 서초동 1319-5</td>\n",
       "      <td>127.027374</td>\n",
       "      <td>37.497211</td>\n",
       "    </tr>\n",
       "    <tr>\n",
       "      <th>2</th>\n",
       "      <td>서초구</td>\n",
       "      <td>개방형흡연부스</td>\n",
       "      <td>서울특별시 서초구 방배동 910-9</td>\n",
       "      <td>126.996896</td>\n",
       "      <td>37.482139</td>\n",
       "    </tr>\n",
       "    <tr>\n",
       "      <th>3</th>\n",
       "      <td>서초구</td>\n",
       "      <td>개방형흡연부스</td>\n",
       "      <td>서울특별시 서초구 방배동 450-14</td>\n",
       "      <td>126.982975</td>\n",
       "      <td>37.477690</td>\n",
       "    </tr>\n",
       "    <tr>\n",
       "      <th>4</th>\n",
       "      <td>서초구</td>\n",
       "      <td>개방형흡연부스</td>\n",
       "      <td>서울특별시 서초구 서초대로 78길 24</td>\n",
       "      <td>127.027742</td>\n",
       "      <td>37.495515</td>\n",
       "    </tr>\n",
       "  </tbody>\n",
       "</table>\n",
       "</div>"
      ],
      "text/plain": [
       "  sgg_nm    shape                address         lon        lat\n",
       "0    서초구  개방형흡연부스    서울특벽시 서초구 방배2동 2476  126.982071  37.475943\n",
       "1    서초구  개방형흡연부스   서울특별시 서초구 서초동 1319-5  127.027374  37.497211\n",
       "2    서초구  개방형흡연부스    서울특별시 서초구 방배동 910-9  126.996896  37.482139\n",
       "3    서초구  개방형흡연부스   서울특별시 서초구 방배동 450-14  126.982975  37.477690\n",
       "4    서초구  개방형흡연부스  서울특별시 서초구 서초대로 78길 24  127.027742  37.495515"
      ]
     },
     "execution_count": 1,
     "metadata": {},
     "output_type": "execute_result"
    }
   ],
   "source": [
    "#데이터 불러오기\n",
    "import pandas as pd\n",
    "data = pd.read_csv(\"서초구_흡연시설.csv\",encoding='UTF-8')\n",
    "data.head()"
   ]
  },
  {
   "cell_type": "code",
   "execution_count": 3,
   "id": "36ea23b0-51fd-47c3-8981-60f11a7706ee",
   "metadata": {},
   "outputs": [],
   "source": [
    "import folium as folium\n",
    "from folium import Marker\n",
    "from folium.plugins import MarkerCluster\n",
    "\n",
    "center = [37.473552,127.030250]\n",
    "seocho_map = folium.Map(location=center,zoom_start=15)\n",
    "\n",
    "mcluster=MarkerCluster()\n",
    "\n",
    "for _, row in data.iterrows():\n",
    "    mcluster.add_child(\n",
    "    Marker(location=[row['lat'],row['lon']],\n",
    "          popup=row['shape']\n",
    "          )\n",
    "    )\n",
    "seocho_smoking = seocho_map.add_child(mcluster)\n",
    "seocho_smoking.save(\"C:/LJH/PYDATAexam/non-smoke-area-bigdata/images/서초구_흡연부스_클러스터링.html\")"
   ]
  },
  {
   "cell_type": "code",
   "execution_count": 6,
   "id": "82377b03-0d87-443c-bd9e-0597eb34d40c",
   "metadata": {},
   "outputs": [],
   "source": []
  },
  {
   "cell_type": "code",
   "execution_count": null,
   "id": "93d153a1-b54b-4551-a3a9-4ad83097ed4c",
   "metadata": {},
   "outputs": [],
   "source": []
  }
 ],
 "metadata": {
  "kernelspec": {
   "display_name": "pydatavenv",
   "language": "python",
   "name": "pydatavenv"
  },
  "language_info": {
   "codemirror_mode": {
    "name": "ipython",
    "version": 3
   },
   "file_extension": ".py",
   "mimetype": "text/x-python",
   "name": "python",
   "nbconvert_exporter": "python",
   "pygments_lexer": "ipython3",
   "version": "3.9.7"
  }
 },
 "nbformat": 4,
 "nbformat_minor": 5
}
