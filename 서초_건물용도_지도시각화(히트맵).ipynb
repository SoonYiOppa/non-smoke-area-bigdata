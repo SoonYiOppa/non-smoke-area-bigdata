{
 "cells": [
  {
   "cell_type": "code",
   "execution_count": 4,
   "id": "9bb868c7-08b0-4d26-9041-6918409acfee",
   "metadata": {
    "tags": []
   },
   "outputs": [
    {
     "data": {
      "text/html": [
       "<div>\n",
       "<style scoped>\n",
       "    .dataframe tbody tr th:only-of-type {\n",
       "        vertical-align: middle;\n",
       "    }\n",
       "\n",
       "    .dataframe tbody tr th {\n",
       "        vertical-align: top;\n",
       "    }\n",
       "\n",
       "    .dataframe thead th {\n",
       "        text-align: right;\n",
       "    }\n",
       "</style>\n",
       "<table border=\"1\" class=\"dataframe\">\n",
       "  <thead>\n",
       "    <tr style=\"text-align: right;\">\n",
       "      <th></th>\n",
       "      <th>Unnamed: 0</th>\n",
       "      <th>address</th>\n",
       "      <th>purpose1</th>\n",
       "      <th>purpose2</th>\n",
       "      <th>lon</th>\n",
       "      <th>lat</th>\n",
       "    </tr>\n",
       "  </thead>\n",
       "  <tbody>\n",
       "    <tr>\n",
       "      <th>0</th>\n",
       "      <td>1</td>\n",
       "      <td>서울특별시 서초구 방배동 1-3</td>\n",
       "      <td>제2종근린생활시설</td>\n",
       "      <td>일반음식점</td>\n",
       "      <td>126.994768</td>\n",
       "      <td>37.494139</td>\n",
       "    </tr>\n",
       "    <tr>\n",
       "      <th>1</th>\n",
       "      <td>2</td>\n",
       "      <td>서울특별시 서초구 방배동 1-4</td>\n",
       "      <td>단독주택</td>\n",
       "      <td>다가구주택</td>\n",
       "      <td>126.993182</td>\n",
       "      <td>37.496017</td>\n",
       "    </tr>\n",
       "    <tr>\n",
       "      <th>2</th>\n",
       "      <td>3</td>\n",
       "      <td>서울특별시 서초구 방배동 1-7</td>\n",
       "      <td>공동주택</td>\n",
       "      <td>아파트</td>\n",
       "      <td>126.993939</td>\n",
       "      <td>37.493986</td>\n",
       "    </tr>\n",
       "    <tr>\n",
       "      <th>3</th>\n",
       "      <td>4</td>\n",
       "      <td>서울특별시 서초구 방배동 1-7</td>\n",
       "      <td>공동주택</td>\n",
       "      <td>아파트</td>\n",
       "      <td>126.993939</td>\n",
       "      <td>37.493986</td>\n",
       "    </tr>\n",
       "    <tr>\n",
       "      <th>4</th>\n",
       "      <td>5</td>\n",
       "      <td>서울특별시 서초구 방배동 1-11</td>\n",
       "      <td>공동주택</td>\n",
       "      <td>아파트</td>\n",
       "      <td>126.993980</td>\n",
       "      <td>37.495967</td>\n",
       "    </tr>\n",
       "  </tbody>\n",
       "</table>\n",
       "</div>"
      ],
      "text/plain": [
       "   Unnamed: 0             address   purpose1 purpose2         lon        lat\n",
       "0           1   서울특별시 서초구 방배동 1-3  제2종근린생활시설    일반음식점  126.994768  37.494139\n",
       "1           2   서울특별시 서초구 방배동 1-4       단독주택    다가구주택  126.993182  37.496017\n",
       "2           3   서울특별시 서초구 방배동 1-7       공동주택      아파트  126.993939  37.493986\n",
       "3           4   서울특별시 서초구 방배동 1-7       공동주택      아파트  126.993939  37.493986\n",
       "4           5  서울특별시 서초구 방배동 1-11       공동주택      아파트  126.993980  37.495967"
      ]
     },
     "execution_count": 4,
     "metadata": {},
     "output_type": "execute_result"
    }
   ],
   "source": [
    "import pandas as pd\n",
    "\n",
    "data = pd.read_csv(\"서초구_건물용도.csv\",encoding=\"UTF-8\")\n",
    "data.head()"
   ]
  },
  {
   "cell_type": "code",
   "execution_count": 5,
   "id": "4ce6a726-4640-448b-b0b3-faff827cbd55",
   "metadata": {},
   "outputs": [
    {
     "data": {
      "text/plain": [
       "purpose1    0\n",
       "purpose2    0\n",
       "lon         0\n",
       "lat         0\n",
       "dtype: int64"
      ]
     },
     "execution_count": 5,
     "metadata": {},
     "output_type": "execute_result"
    }
   ],
   "source": [
    "#공동주택, 단독 주택 뽑아내기\n",
    "data_house = data[(data['purpose1']==\"공동주택\") | (data['purpose1']=='단독주택')]\n",
    "data_house = data[['purpose1','purpose2','lon','lat']]\n",
    "\n",
    "#lon,lat 결측 제거\n",
    "data_house = data_house.dropna(axis=0)\n",
    "\n",
    "#결측 제거 확인\n",
    "data_house.isnull().sum()"
   ]
  },
  {
   "cell_type": "code",
   "execution_count": 6,
   "id": "7873e588-0556-4f4e-8c8c-82b7bd9c60ba",
   "metadata": {},
   "outputs": [
    {
     "data": {
      "text/plain": [
       "purpose1    0\n",
       "purpose2    0\n",
       "lon         0\n",
       "lat         0\n",
       "dtype: int64"
      ]
     },
     "execution_count": 6,
     "metadata": {},
     "output_type": "execute_result"
    }
   ],
   "source": [
    "#제1종 근린 + 제2종 근린 뽑아내기\n",
    "\n",
    "data_office = data[(data['purpose1']=='업무시설')] #(data['purpose1']=='제1종근린생활시설')|(data['purpose1']=='제2종근린생활시설')|\n",
    "data_office = data[['purpose1','purpose2','lon','lat']]\n",
    "data_office.head()\n",
    "\n",
    "#lon, lat 결측 제거\n",
    "data_office = data_office.dropna(axis=0)\n",
    "data_office.isnull().sum()"
   ]
  },
  {
   "cell_type": "code",
   "execution_count": 7,
   "id": "3450e8c1-c4fb-45ce-a52d-e87cbba60d91",
   "metadata": {},
   "outputs": [],
   "source": [
    "#lon, lat 리스트작성\n",
    "lat = list(data_house['lat'])\n",
    "long = list(data_house['lon'])\n",
    "\n",
    "#주거 시설 지도시각화\n",
    "\n",
    "import folium\n",
    "from folium.plugins import HeatMap\n",
    "\n",
    "center = [37.473552,127.030250]\n",
    "seocho_map1 = folium.Map(location=center,zoom_strat=15)\n",
    "\n",
    "heatmap = HeatMap(zip(lat,long),\n",
    "                 min_opacity=0.1,\n",
    "                 radius=20,\n",
    "                 blur=25,\n",
    "                 max_zoon = 4,\n",
    "                 color='Red')\n",
    "\n",
    "seocho_map1.add_child(heatmap)\n",
    "seocho_map1\n",
    "\n",
    "seocho_map1.save(\"C:/LJH/PYDATAexam/non-smoke-area-bigdata/images/서초구_주거시설_히트맵.html\")"
   ]
  },
  {
   "cell_type": "code",
   "execution_count": 12,
   "id": "9d4f3b51-31a9-4073-80b7-facfb0f7313f",
   "metadata": {},
   "outputs": [],
   "source": [
    "#lon, lat 리스트작성\n",
    "lat = list(data_office['lat'])\n",
    "long = list(data_office['lon'])\n",
    "\n",
    "#주거 시설 지도시각화\n",
    "\n",
    "import folium\n",
    "from folium.plugins import HeatMap\n",
    "\n",
    "center = [37.473552,127.030250]\n",
    "seocho_map2 = folium.Map(location=center,zoom_strat=15)\n",
    "\n",
    "\n",
    "\n",
    "\n",
    "\n",
    "heatmap = HeatMap(zip(lat,long),\n",
    "                 min_opacity=0.1,\n",
    "                 radius=20,\n",
    "                 blur=25,\n",
    "                 max_zoon = 4,\n",
    "                 color='Red')\n",
    "\n",
    "seocho_map2 = seocho_map2.add_child(heatmap)\n",
    "seocho_map2.save(\"C:/LJH/PYDATAexam/non-smoke-area-bigdata/images/서초구_업무시설_히트맵.html\")\n"
   ]
  },
  {
   "cell_type": "code",
   "execution_count": 16,
   "id": "7c602e05-637f-4fc7-9189-86c146bdfce6",
   "metadata": {},
   "outputs": [],
   "source": [
    "import json\n",
    "seocho_geo='seocho1.geojson'\n",
    "#geo_data=json.load(open(seocho_geo,'rt',encoding='UTF8'))\n",
    "geo_data=json.load(open(seocho_geo,'rt'))\n",
    "#print(geo_data)\n",
    "\n",
    "center = [37.473552,127.030250]\n",
    "seocho_map = folium.Map(location=center,zoom_strat=15)\n",
    "folium.Choropleth(geo_data=geo_data,\n",
    "                  fill_color='YlGnBu',).add_to(seocho_map)\n",
    "seocho_map.save(\"C:/LJH/PYDATAexam/non-smoke-area-bigdata/images/서초구_법정동_레이어.html\")"
   ]
  },
  {
   "cell_type": "code",
   "execution_count": null,
   "id": "f11586eb-9caa-4f6e-9330-bf1fe250a007",
   "metadata": {},
   "outputs": [],
   "source": []
  }
 ],
 "metadata": {
  "kernelspec": {
   "display_name": "pydatavenv",
   "language": "python",
   "name": "pydatavenv"
  },
  "language_info": {
   "codemirror_mode": {
    "name": "ipython",
    "version": 3
   },
   "file_extension": ".py",
   "mimetype": "text/x-python",
   "name": "python",
   "nbconvert_exporter": "python",
   "pygments_lexer": "ipython3",
   "version": "3.9.7"
  }
 },
 "nbformat": 4,
 "nbformat_minor": 5
}
